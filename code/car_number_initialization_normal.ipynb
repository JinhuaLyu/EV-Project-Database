{
 "cells": [
  {
   "cell_type": "markdown",
   "source": [
    "### function to generate initial cars with different charging level"
   ],
   "metadata": {
    "collapsed": false
   }
  },
  {
   "cell_type": "code",
   "execution_count": 31,
   "outputs": [],
   "source": [
    "import pandas as pd\n",
    "import os\n",
    "from scipy.stats import binom"
   ],
   "metadata": {
    "collapsed": false
   }
  },
  {
   "cell_type": "code",
   "execution_count": 32,
   "outputs": [],
   "source": [
    "Inputpath = \"../input/\"\n",
    "Outputpath = \"../output/car_charge_distribution/\""
   ],
   "metadata": {
    "collapsed": false
   }
  },
  {
   "cell_type": "code",
   "execution_count": 33,
   "outputs": [],
   "source": [
    "df_node = pd.read_excel(os.path.join(Inputpath,\"nodes_sonoma_15min.xlsx\"), header = 0)\n",
    "# set safe nodes set\n",
    "safe_nodes = {15,20,24,26}\n",
    "for i in range(26):\n",
    "    k = i+1\n",
    "    if k in safe_nodes:\n",
    "        df_node.iloc[i,5] = 0"
   ],
   "metadata": {
    "collapsed": false
   }
  },
  {
   "cell_type": "code",
   "execution_count": 34,
   "outputs": [],
   "source": [
    "L = 26 # level of charge\n",
    "n = L"
   ],
   "metadata": {
    "collapsed": false
   }
  },
  {
   "cell_type": "code",
   "execution_count": 35,
   "outputs": [],
   "source": [
    "# for the case that cars in different charge level are evenly distributed\n",
    "def car_num_init_even(n,df_node,Outputpath):\n",
    "    car_init = {'Levels':[], 'Nodes':[], 'CarNumbers':[]}\n",
    "    for l in range(n+1):\n",
    "        for node in df_node['Nodes'].tolist():\n",
    "            car_init['Levels'].append(int(l))\n",
    "            car_init['Nodes'].append(int(node))\n",
    "            car_init['CarNumbers'].append(df_node['EVs'][node-1]/(1000 * (n+1)))\n",
    "    car_init_pd = pd.DataFrame(car_init)\n",
    "    filename = \"CarNumberInitial_halfEV_L\" + str(n) + \"even_battery\" + \".csv\"\n",
    "    car_init_pd.to_csv(os.path.join(Outputpath,filename),index=False)"
   ],
   "metadata": {
    "collapsed": false
   }
  },
  {
   "cell_type": "code",
   "execution_count": 36,
   "outputs": [],
   "source": [
    "# for the case that there are more cars in high charge level\n",
    "def car_num_init_high(n,df_node,Outputpath):\n",
    "    increase_rate = range(-78,84,6)\n",
    "    car_init = {'Levels':[], 'Nodes':[], 'CarNumbers':[]}\n",
    "    for l in range(n+1):\n",
    "        for node in df_node['Nodes'].tolist():\n",
    "            car_init['Levels'].append(int(l))\n",
    "            car_init['Nodes'].append(int(node))\n",
    "            car_init['CarNumbers'].append(df_node['EVs'][node-1]/(1000 * (n+1))*(1+increase_rate[l]/100))\n",
    "\n",
    "    car_init_pd = pd.DataFrame(car_init)\n",
    "    filename = \"CarNumberInitial_halfEV_L\" + str(n) + \"high_battery\" + \".csv\"\n",
    "    car_init_pd.to_csv(os.path.join(Outputpath,filename),index=False)"
   ],
   "metadata": {
    "collapsed": false
   }
  },
  {
   "cell_type": "code",
   "execution_count": 37,
   "outputs": [],
   "source": [
    "# for the case that there are more cars in low charge level\n",
    "def car_num_init_low(n,df_node,Outputpath):\n",
    "    increase_rate = range(78,-84,-6)\n",
    "    car_init = {'Levels':[], 'Nodes':[], 'CarNumbers':[]}\n",
    "    for l in range(n+1):\n",
    "        for node in df_node['Nodes'].tolist():\n",
    "            car_init['Levels'].append(int(l))\n",
    "            car_init['Nodes'].append(int(node))\n",
    "            car_init['CarNumbers'].append(df_node['EVs'][node-1]/(1000 * (n+1))*(1+increase_rate[l]/100))\n",
    "\n",
    "    car_init_pd = pd.DataFrame(car_init)\n",
    "    filename = \"CarNumberInitial_halfEV_L\" + str(n) + \"low_battery\" + \".csv\"\n",
    "    car_init_pd.to_csv(os.path.join(Outputpath,filename),index=False)"
   ],
   "metadata": {
    "collapsed": false
   }
  },
  {
   "cell_type": "code",
   "execution_count": 38,
   "outputs": [],
   "source": [
    "# output three cases in car distribution for a normal case (normal charging speed)\n",
    "car_num_init_even(n,df_node,Outputpath)\n",
    "car_num_init_high(n,df_node,Outputpath)\n",
    "car_num_init_low(n,df_node,Outputpath)"
   ],
   "metadata": {
    "collapsed": false
   }
  }
 ],
 "metadata": {
  "kernelspec": {
   "display_name": "Python 3",
   "language": "python",
   "name": "python3"
  },
  "language_info": {
   "codemirror_mode": {
    "name": "ipython",
    "version": 2
   },
   "file_extension": ".py",
   "mimetype": "text/x-python",
   "name": "python",
   "nbconvert_exporter": "python",
   "pygments_lexer": "ipython2",
   "version": "2.7.6"
  }
 },
 "nbformat": 4,
 "nbformat_minor": 0
}
