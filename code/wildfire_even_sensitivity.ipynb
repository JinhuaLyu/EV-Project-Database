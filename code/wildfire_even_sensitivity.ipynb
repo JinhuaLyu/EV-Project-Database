{
 "cells": [
  {
   "cell_type": "code",
   "execution_count": null,
   "metadata": {
    "ExecuteTime": {
     "end_time": "2023-03-21T18:42:02.176894Z",
     "start_time": "2023-03-21T18:42:02.168439Z"
    }
   },
   "outputs": [],
   "source": [
    "import pyomo.environ as pe\n",
    "import pyomo.opt as po\n",
    "from pyomo.opt import SolverFactory\n",
    "import numpy as np\n",
    "import networkx as nx\n",
    "import matplotlib.pyplot as plt\n",
    "from collections import defaultdict\n",
    "import pandas as pd\n",
    "import time\n",
    "import math\n",
    "import gurobipy\n",
    "\n",
    "from collections import defaultdict\n",
    "import os"
   ]
  },
  {
   "cell_type": "code",
   "execution_count": null,
   "metadata": {
    "ExecuteTime": {
     "end_time": "2023-03-21T18:42:03.127886Z",
     "start_time": "2023-03-21T18:42:03.119325Z"
    }
   },
   "outputs": [],
   "source": [
    "solver = po.SolverFactory('gurobi')"
   ]
  },
  {
   "cell_type": "code",
   "execution_count": null,
   "metadata": {
    "ExecuteTime": {
     "end_time": "2023-03-21T18:42:03.687205Z",
     "start_time": "2023-03-21T18:42:03.683205Z"
    }
   },
   "outputs": [],
   "source": [
    "# Path definition\n",
    "Inputpath = \"../input/\"\n",
    "Outputpath = \"../output/numerical_results/\""
   ]
  },
  {
   "cell_type": "markdown",
   "source": [],
   "metadata": {
    "collapsed": false
   }
  },
  {
   "cell_type": "code",
   "execution_count": null,
   "metadata": {
    "ExecuteTime": {
     "end_time": "2023-03-21T18:42:04.242635Z",
     "start_time": "2023-03-21T18:42:04.168837Z"
    }
   },
   "outputs": [],
   "source": [
    "# Basic fixed parameters\n",
    "L = 26 # 196/7.5\n",
    "T = 2 # Evacuation time window\n",
    "G = 3.7   # cost of charging capacity installed at each node, million $/thousand cars = thousand $/ car\n",
    "#C = 4    # capacity of each arc, in thousands of cars per hour\n",
    "B = 10    # budget, million $\n",
    "\n",
    "df_arc = pd.read_excel(os.path.join(Inputpath,\"arcs_sonoma_15min.xlsx\"), header = 0)\n",
    "df_node = pd.read_excel(os.path.join(Inputpath,\"nodes_sonoma_15min.xlsx\"), header = 0)\n",
    "df_char_damFac = pd.read_csv(os.path.join(Inputpath, \"charging_cap_damFac_3hrs.csv\"), header = 0)\n",
    "df_road_damFac = pd.read_csv(os.path.join(Inputpath, \"road_cap_damFac_3hrs.csv\"), header = 0)\n",
    "df_S_nodes = pd.read_excel(os.path.join(Inputpath,\"safe_nodes_15min.xlsx\"), header = 0)\n",
    "df_S_nodes = df_S_nodes[df_S_nodes['Safe'] == 1]"
   ]
  },
  {
   "cell_type": "code",
   "execution_count": null,
   "metadata": {
    "ExecuteTime": {
     "end_time": "2023-03-21T18:42:04.777995Z",
     "start_time": "2023-03-21T18:42:04.748399Z"
    }
   },
   "outputs": [],
   "source": [
    "# random scenario probabilities and\n",
    "cases_num = max(df_char_damFac['Scenario'])\n",
    "prob_dict = dict()\n",
    "for k in range(cases_num):\n",
    "    prob_dict[k] = df_char_damFac.groupby(['Scenario']).first()['Probability'][k+1]"
   ]
  },
  {
   "cell_type": "markdown",
   "metadata": {},
   "source": [
    "### Define Graph"
   ]
  },
  {
   "cell_type": "markdown",
   "metadata": {},
   "source": [
    "### Sets"
   ]
  },
  {
   "cell_type": "code",
   "execution_count": null,
   "metadata": {
    "ExecuteTime": {
     "end_time": "2023-03-21T18:42:06.188938Z",
     "start_time": "2023-03-21T18:42:06.178936Z"
    }
   },
   "outputs": [],
   "source": [
    "## SETS\n",
    "\n",
    "# The set of nodes in the safety area, put the components of dataframe in a set\n",
    "N_s = set()\n",
    "for i in range(len(df_S_nodes)):\n",
    "    N_s.add(df_S_nodes.iloc[i]['Nodes'])\n",
    "\n",
    "# Set of all nodes\n",
    "N = set()\n",
    "for i in range(len(df_node)):\n",
    "    N.add(df_node['Nodes'][i])\n",
    "\n",
    "A = set()\n",
    "# edge_info = dict()\n",
    "road_cap = dict()\n",
    "\n",
    "for i in range(len(df_arc)):\n",
    "    node0 = df_arc['From'][i]\n",
    "    node1 = df_arc['To'][i]\n",
    "    A.add((node0, node1))\n",
    "    road_cap[((node0, node1))] = df_arc['Capacity'][i]"
   ]
  },
  {
   "cell_type": "code",
   "execution_count": null,
   "metadata": {
    "ExecuteTime": {
     "end_time": "2023-03-21T18:42:06.959484Z",
     "start_time": "2023-03-21T18:42:06.947179Z"
    }
   },
   "outputs": [],
   "source": [
    "## STOCHASTIC PARAMETERS c: road capacity ##\n",
    "def c_random(A, df_road_damFac, cases_num, road_cap, T):\n",
    "\n",
    "    #c = dict()\n",
    "    c_tuple = dict()\n",
    "\n",
    "    gk = df_road_damFac.groupby(['Scenario'])\n",
    "\n",
    "    for k in range(cases_num):\n",
    "        sce_sub = gk.get_group(k+1).copy()\n",
    "#         sce_sub = df_road_damFac[df_road_damFac['Scenario'] == k+1]\n",
    "        #c[k] = {}\n",
    "        for r in range(sce_sub.shape[0]):\n",
    "            curr_edge = sce_sub.iloc[r]\n",
    "\n",
    "            for t in range(4*T+1):\n",
    "                if math.isnan(curr_edge['Time']):\n",
    "                    c_tuple[((int(curr_edge['From']), int(curr_edge['To'])), k),t] = road_cap[(int(curr_edge['From']), int(curr_edge['To']))]\n",
    "                elif t/4 < curr_edge['Time']:\n",
    "                    c_tuple[((int(curr_edge['From']), int(curr_edge['To'])), k),t] = road_cap[(int(curr_edge['From']), int(curr_edge['To']))]\n",
    "                else:\n",
    "                    c_tuple[((int(curr_edge['From']), int(curr_edge['To'])), k),t] = road_cap[(int(curr_edge['From']), int(curr_edge['To']))] * 0\n",
    "\n",
    "            # expand road capacity by a constant number to adapt the Houston metro area population\n",
    "            # c[k][(int(curr_edge['From']), int(curr_edge['To']))] = curr_edge['DamFac'] * road_cap[(int(curr_edge['From']), int(curr_edge['To']))]\n",
    "            # c_tuple[(int(curr_edge['From']), int(curr_edge['To'])), k] = curr_edge['DamFac'] * road_cap[(int(curr_edge['From']), int(curr_edge['To']))] #* 2\n",
    "\n",
    "    return c_tuple"
   ]
  },
  {
   "cell_type": "code",
   "execution_count": null,
   "metadata": {
    "ExecuteTime": {
     "end_time": "2023-03-21T18:42:07.836668Z",
     "start_time": "2023-03-21T18:42:07.826738Z"
    }
   },
   "outputs": [],
   "source": [
    "## STOCHASTIC PARAMETERS xi: charging capacity factors ##\n",
    "def s_random(df_char_damFac, cases_num, T):\n",
    "\n",
    "    xi_s = dict()\n",
    "\n",
    "    gk = df_char_damFac.groupby(['Scenario'])\n",
    "\n",
    "    for k in range(cases_num):\n",
    "        sce_sub = gk.get_group(k+1).copy()\n",
    "#         sce_sub = df_char_damFac[df_char_damFac['Scenario'] == k+1]\n",
    "\n",
    "        for r in range(sce_sub.shape[0]):\n",
    "            curr_node = sce_sub.iloc[r]\n",
    "            for t in range(4*T+1):\n",
    "                if math.isnan(curr_node['Time']):\n",
    "                    xi_s[(int(curr_node['Nodes']), k),t] = 1\n",
    "                elif t/4 < curr_node['Time']:\n",
    "                    xi_s[(int(curr_node['Nodes']), k),t] = 1\n",
    "                else:\n",
    "                    xi_s[(int(curr_node['Nodes']), k),t] = 0\n",
    "\n",
    "    return xi_s"
   ]
  },
  {
   "cell_type": "code",
   "execution_count": null,
   "metadata": {
    "ExecuteTime": {
     "end_time": "2023-03-21T18:42:09.002858Z",
     "start_time": "2023-03-21T18:42:08.693314Z"
    }
   },
   "outputs": [],
   "source": [
    "road_ca = c_random(A, df_road_damFac, cases_num, road_cap, T) # road capacity random parameter\n",
    "xi_s = s_random(df_char_damFac, cases_num, T) # charging capacity random parameter"
   ]
  },
  {
   "cell_type": "code",
   "execution_count": null,
   "metadata": {
    "ExecuteTime": {
     "end_time": "2023-03-21T18:41:59.818909Z",
     "start_time": "2023-03-21T18:41:59.818909Z"
    }
   },
   "outputs": [],
   "source": [
    "Vi = defaultdict(set)\n",
    "Vo = defaultdict(set)\n",
    "for (i,j) in A:\n",
    "    Vi[j].add(i) # incoming set\n",
    "    Vo[i].add(j) # outgoing set"
   ]
  },
  {
   "cell_type": "markdown",
   "metadata": {},
   "source": [
    "### Model"
   ]
  },
  {
   "cell_type": "code",
   "execution_count": null,
   "metadata": {
    "ExecuteTime": {
     "end_time": "2023-03-21T18:41:59.819907Z",
     "start_time": "2023-03-21T18:41:59.819907Z"
    }
   },
   "outputs": [],
   "source": [
    "# two stage stochastic model we built\n",
    "def primal_run_res(L,T,cases_num,N,N_s,A,car_num,road_ca,xi_s,Vi,Vo,B,G,Outputpath,out_folder_name, out_folder, Total_cars, Cat=None,p=None):\n",
    "    start = time.time() #record the start time\n",
    "    model = pe.ConcreteModel()\n",
    "\n",
    "    # Model settings\n",
    "    model.Levels = range(L)\n",
    "    model.Times = range(4*T+1)\n",
    "    model.Cases = range(cases_num) # number of cases\n",
    "\n",
    "    model.nodes = pe.Set(initialize=N) # N is the set of all nodes\n",
    "    model.nodes_safe = pe.Set(initialize=N_s) # the set of all safe nodes\n",
    "    model.edges = pe.Set(initialize=A) # the set of all edges\n",
    "\n",
    "    # car number initialization\n",
    "    model.car_num = pe.Param(model.Levels, model.nodes, initialize=car_num)\n",
    "    # road capacity\n",
    "    model.road_ca = pe.Param(model.edges, model.Cases, model.Times, initialize=road_ca)\n",
    "    # charging capacity random damage factor\n",
    "    model.char_damFac = pe.Param(model.nodes, model.Cases, model.Times, initialize=xi_s)\n",
    "    # scenario probabilities\n",
    "    model.prob = pe.Param(model.Cases, initialize=prob_dict)\n",
    "\n",
    "    # define parameters of incoming and outgoing sets\n",
    "    model.Vi = pe.Param(model.nodes, initialize=Vi, default=set(), within=pe.Any)\n",
    "    model.Vo = pe.Param(model.nodes, initialize=Vo, default=set(), within=pe.Any)\n",
    "\n",
    "\n",
    "    # VARIABLES\n",
    "    # variable x_{l,(i,j),t,k}\n",
    "    model.x = pe.Var(model.Levels, model.edges, model.Times, model.Cases, within=pe.NonNegativeReals) # stage 2\n",
    "    # variable y_{l,(j,j),t,k}\n",
    "    model.y = pe.Var(model.Levels, model.nodes, model.Times, model.Cases, within=pe.NonNegativeReals) # stage 2\n",
    "    # variable z: number of cars at node j\n",
    "    model.z = pe.Var(model.Levels, model.nodes, model.Times, model.Cases, within=pe.NonNegativeReals) # stage 2\n",
    "    # variable s_{j,k}: number of chargers (in thousands)\n",
    "    model.s = pe.Var(model.nodes, within=pe.NonNegativeReals) # stage 1\n",
    "\n",
    "    # OBJECTIVE VALUE\n",
    "    obj_func_value = 0\n",
    "    total_budget_expr = 0\n",
    "\n",
    "    # CONSTRAINT LISTS\n",
    "    model.con_flow_bal = pe.ConstraintList()\n",
    "    model.con_charge_limit = pe.ConstraintList()\n",
    "    model.con_road_ca = pe.ConstraintList()\n",
    "    model.budget_con = pe.ConstraintList()\n",
    "    model.con_x_init = pe.ConstraintList()\n",
    "    model.con_y_init = pe.ConstraintList()\n",
    "    model.con_y = pe.ConstraintList() # constraint for y while l = 0\n",
    "    model.con_z_init = pe.ConstraintList()\n",
    "\n",
    "    # 1st stage constraint: BUDGET OF INVESTMENT\n",
    "    total_budget_expr = sum(G*model.s[j] for j in model.nodes)\n",
    "    model.budget_con.add(expr = (total_budget_expr <= B))\n",
    "\n",
    "\n",
    "    # 2nd stage constraints\n",
    "    for w in range(cases_num):\n",
    "\n",
    "        # objective function value: sum(p_i * obj_i over i)\n",
    "        obj_func_value += model.prob[w] * -sum( sum( sum(model.z[l,j,t,w] for j in model.nodes_safe) + sum(model.y[l,j,t,w] for j in model.nodes_safe) for l in model.Levels) for t in model.Times)\n",
    "\n",
    "        # FLOW BALANCE constraints\n",
    "        for j in model.nodes:\n",
    "            for t in range(4*T):\n",
    "                for l in model.Levels:\n",
    "                    # first constraint\n",
    "                    if l >= 1 and l <= L-2:\n",
    "                        flow_in = sum(model.x[l,i,j,t,w] for i in model.Vi[j]) + model.y[l,j,t,w] + model.z[l,j,t,w]\n",
    "                        flow_out = model.y[l+1,j,t+1,w] + model.z[l,j,t+1,w] + sum(model.x[l-1,j,k,t+1,w] for k in model.Vo[j] if k != j)\n",
    "                    # second constraint: at min level\n",
    "                    if l == 0:\n",
    "                        flow_in = sum(model.x[l,i,j,t,w] for i in model.Vi[j]) + model.z[l,j,t,w]\n",
    "                        flow_out = model.y[l+1,j,t+1,w] + model.z[l,j,t+1,w]\n",
    "                    # third constraint: at max level\n",
    "                    if l == L-1:\n",
    "                        flow_in = model.y[l,j,t,w] + model.z[l,j,t,w]\n",
    "                        flow_out = sum(model.x[l-1,j,k,t+1,w] for k in model.Vo[j] if k != j) + model.z[l,j,t+1,w]\n",
    "\n",
    "                    model.con_flow_bal.add(expr = (flow_in == flow_out))\n",
    "\n",
    "\n",
    "        # CHARGING LIMIT constraint\n",
    "        for j in model.nodes:\n",
    "            for t in model.Times:\n",
    "                LHS = sum(model.y[l,j,t,w] for l in range(1,L))\n",
    "                #RHS = model.s[j] * model.char_damFac[j,w]\n",
    "                RHS = model.s[j] * model.char_damFac[j,w,t]\n",
    "                model.con_charge_limit.add(expr = (LHS <= RHS))\n",
    "\n",
    "\n",
    "        # ROAD CAPACITY constraint\n",
    "        for (i,j) in model.edges:\n",
    "            for t in model.Times:\n",
    "                if i != j:\n",
    "                    LHS = sum(model.x[l,i,j,t,w] for l in range(L-1))\n",
    "                    #RHS = model.road_ca[i,j,w]\n",
    "                    RHS = model.road_ca[i,j,w,t]\n",
    "                    model.con_road_ca.add(expr = (LHS <= RHS))\n",
    "\n",
    "\n",
    "        # x INITIALIZATION\n",
    "        for (i,j) in model.edges:\n",
    "            for w in model.Cases:\n",
    "                for t in model.Times:\n",
    "                    con_expr = (model.x[L-1,i,j,t,w] == 0) # cars cannot reach the next node with full charge at any time\n",
    "                    model.con_x_init.add(expr = con_expr)\n",
    "                for l in model.Levels:\n",
    "                    con_expr = (model.x[l,i,j,0,w] == 0) # x initialization at time t = 0, no cars on arc when t=0\n",
    "                    model.con_x_init.add(expr = con_expr)\n",
    "\n",
    "\n",
    "        # y INITIALIZATION\n",
    "        for j in model.nodes:\n",
    "            for l in model.Levels:\n",
    "                for w in model.Cases:\n",
    "                    con_expr = (model.y[l,j,0,w] == 0) # no cars charging at t=0\n",
    "                    model.con_y_init.add(expr = con_expr)\n",
    "\n",
    "\n",
    "        # z initialization: cars ready to evacuate at t=0\n",
    "        for j in model.nodes:\n",
    "            for l in model.Levels:\n",
    "                for w in model.Cases:\n",
    "                    con_expr = (model.z[l,j,0,w] == model.car_num[l,j])\n",
    "                    model.con_z_init.add(expr = con_expr)\n",
    "\n",
    "        # constraint for y while l = 0: cannot have cars charging to level 0\n",
    "        for j in model.nodes:\n",
    "            for t in model.Times:\n",
    "                for w in model.Cases:\n",
    "                    y_con_expr = (model.y[0,j,t,w] == 0)\n",
    "                    model.con_y.add(expr = y_con_expr)\n",
    "\n",
    "\n",
    "\n",
    "    model.obj_max_reward = pe.Objective(sense=pe.minimize, expr = obj_func_value)\n",
    "\n",
    "\n",
    "    result = solver.solve(model, tee=True)\n",
    "\n",
    "    end = time.time()\n",
    "    run_time = end - start\n",
    "    print(\"execution time: \" + str(end - start))\n",
    "\n",
    "\n",
    "    # POST PROCESSING\n",
    "    s_output = {'Nodes':[],'CharCap':[]}\n",
    "    for j in model.nodes:\n",
    "        s_output['Nodes'].append(j)\n",
    "        s_output['CharCap'].append(model.s[j].value)\n",
    "    df_s_output = pd.DataFrame(s_output)\n",
    "\n",
    "    x_output = {'Arcs':[],'Levels':[],'Times':[],'Scenarios':[],'NumCars':[]}\n",
    "    y_output = {'Nodes':[],'Levels':[],'Times':[],'Scenarios':[],'NumCars':[]}\n",
    "    z_output = {'Nodes':[],'Levels':[],'Times':[],'Scenarios':[],'NumCars':[]}\n",
    "\n",
    "    for (i,j) in model.edges:\n",
    "        for l in model.Levels:\n",
    "            for t in model.Times:\n",
    "                for w in model.Cases:\n",
    "                    x_output['Arcs'].append((i,j))\n",
    "                    x_output['Levels'].append(l)\n",
    "                    x_output['Times'].append(t)\n",
    "                    x_output['Scenarios'].append(w)\n",
    "                    x_output['NumCars'].append(model.x[l,i,j,t,w].value)\n",
    "\n",
    "    for j in model.nodes:\n",
    "        for l in model.Levels:\n",
    "            for t in model.Times:\n",
    "                for w in model.Cases:\n",
    "                    y_output['Nodes'].append(j)\n",
    "                    z_output['Nodes'].append(j)\n",
    "\n",
    "                    y_output['Levels'].append(l)\n",
    "                    z_output['Levels'].append(l)\n",
    "\n",
    "                    y_output['Times'].append(t)\n",
    "                    z_output['Times'].append(t)\n",
    "\n",
    "                    y_output['Scenarios'].append(w)\n",
    "                    z_output['Scenarios'].append(w)\n",
    "\n",
    "                    y_output['NumCars'].append(model.y[l,j,t,w].value)\n",
    "                    z_output['NumCars'].append(model.z[l,j,t,w].value)\n",
    "\n",
    "    df_x_output = pd.DataFrame(x_output)\n",
    "    df_y_output = pd.DataFrame(y_output)\n",
    "    df_z_output = pd.DataFrame(z_output)\n",
    "\n",
    "    # out_folder_name = \"B\" + str(B) + \"T\"  + str(T) + \"_\"+\"high_battery\" + \"L\" + str(L)\n",
    "    # out_folder = os.path.join(Outputpath, \"normal_speed\", out_folder_name)\n",
    "    if not os.path.exists(out_folder):\n",
    "        os.mkdir(out_folder)\n",
    "\n",
    "    s_outname = \"s_values.csv\"\n",
    "    x_outname = \"x_values.csv\"\n",
    "    y_outname = \"y_values.csv\"\n",
    "    z_outname = \"z_values.csv\"\n",
    "\n",
    "    df_s_output.to_csv(os.path.join(out_folder, s_outname),index=False)\n",
    "    df_x_output.to_csv(os.path.join(out_folder, x_outname),index=False)\n",
    "    df_y_output.to_csv(os.path.join(out_folder, y_outname),index=False)\n",
    "    df_z_output.to_csv(os.path.join(out_folder, z_outname),index=False)\n",
    "\n",
    "# only sum y and z\n",
    "    num_evac = sum(model.prob[w] * sum(sum((model.y[l,j,4*T,w].value + model.z[l,j,4*T,w].value) for j in model.nodes_safe) for l in model.Levels) for w in model.Cases)\n",
    "    # for all success EVs\n",
    "    avg_time = {}\n",
    "    avg_time_all = {}\n",
    "    for w in model.Cases:\n",
    "        suc_cars = sum(sum((model.y[l,j,4*T,w].value + model.z[l,j,4*T,w].value) for j in model.nodes_safe) for l in model.Levels)\n",
    "        avg_time[w] = 0\n",
    "        for t in model.Times:\n",
    "            if t >= 1:\n",
    "                avg_time[w] = avg_time[w] + t * (sum(sum((model.y[l,j,t,w].value + model.z[l,j,t,w].value) for j in model.nodes_safe) for l in model.Levels) - sum(sum((model.y[l,j,t-1,w].value + model.z[l,j,t-1,w].value) for j in model.nodes_safe) for l in model.Levels))\n",
    "        avg_time_all[w] = (avg_time[w] + (4*T) * (Total_cars - suc_cars))/Total_cars\n",
    "        avg_time[w] = avg_time[w] / suc_cars\n",
    "        print(avg_time)\n",
    "\n",
    "    avg_evac_time = sum((model.prob[w] * avg_time[w]) for w in model.Cases)\n",
    "    avg_evac_time_all = sum((model.prob[w] * avg_time_all[w]) for w in model.Cases)\n",
    "    # consider all EVs, the failure one accounts for 4 hrs in total\n",
    "\n",
    "    return num_evac, avg_evac_time, avg_evac_time_all, run_time"
   ]
  },
  {
   "cell_type": "code",
   "execution_count": null,
   "metadata": {
    "ExecuteTime": {
     "end_time": "2023-03-21T18:41:59.820907Z",
     "start_time": "2023-03-21T18:41:59.820907Z"
    }
   },
   "outputs": [],
   "source": [
    "# run the base case\n",
    "# def base_study_even_run(L):\n",
    "#     # Read corresponding csv for init\n",
    "#     df_car_init = pd.read_csv(os.path.join(Inputpath,\"CarNumberInitial_halfEV_L\"+str(L-1)+\"even\"+\".csv\"),header=0)\n",
    "#     # Convert dataframe to dictionary\n",
    "#     car_num = dict()\n",
    "#     print(df_car_init)\n",
    "#     for line in range(len(df_car_init)):\n",
    "#         car_num[(df_car_init['Levels'][line], df_car_init['Nodes'][line])] = df_car_init['CarNumbers'][line]\n",
    "#     Total_cars = 73.203\n",
    "#     num_evac,avg_evac_time,avg_evac_time_all,run_time = primal_run_res(L,T,cases_num,N,N_s,A,car_num,road_ca,xi_s,Vi,Vo,B,G,Outputpath,Total_cars)\n",
    "#     return num_evac, avg_evac_time, avg_evac_time_all, run_time"
   ]
  },
  {
   "cell_type": "code",
   "execution_count": null,
   "outputs": [],
   "source": [
    "# sensitivity analysis: budget and evacuation time window (change)\n",
    "# budget range is [1,4,7,10,13,16,19]\n",
    "budget_low = 1\n",
    "budget_high = 22\n",
    "budget_list = list(range(budget_low,budget_high,3))\n",
    "\n",
    "# time window don't change\n",
    "T_low = 2\n",
    "T_high = 3\n",
    "T_list = list(range(T_low,T_high,1))\n",
    "\n",
    "# res_dic = {\"B\":[],\"EvacTime\":[],\"NumEvac\":[],\"RunTime\":[]}\n",
    "\n",
    "# L = 14 # EV range: 13\n",
    "file_names = [\"even_battery\", \"high_battery\", \"low_battery\"]\n",
    "folder_names = [\"even_battery_normal_speed\", \"high_battery_normal_speed\", \"low_battery_normal_speed\"]\n",
    "\n",
    "def main_sens_anal(L):\n",
    "    # Read corresponding csv for init\n",
    "    for i in range(len(file_names)):\n",
    "        df_car_init = pd.read_csv(os.path.join(Inputpath, \"car_charge_distribution\",\"CarNumberInitial_halfEV_L\"+str(L-1)+str(file_names[i])+\".csv\"),header=0)\n",
    "        # Convert dataframe to dictionary\n",
    "        car_num = dict()\n",
    "        for line in range(len(df_car_init)):\n",
    "            car_num[(df_car_init['Levels'][line], df_car_init['Nodes'][line])] = df_car_init['CarNumbers'][line]\n",
    "        #Total number of cars\n",
    "        Total_cars = 73.203\n",
    "        res_dic = {\"B\":[],\"EvacTime\":[],\"NumEvac\":[],\"Avg_evac_time\":[],\"Avg_evac_time_all\":[],\"RunTime\":[]}\n",
    "\n",
    "        # Loop over scenarios\n",
    "        for B in budget_list:\n",
    "            for T in T_list:\n",
    "                road_ca = c_random(A, df_road_damFac, cases_num, road_cap, T) # road capacity random parameter\n",
    "                xi_s = s_random(df_char_damFac, cases_num, T) # charging capacity random parameter\n",
    "                name1 = \"B\" + str(B) + \"T\"  + str(T) + \"_\"+ str(file_names[i]) + \"L\" + str(L)\n",
    "                name2 = os.path.join(Outputpath, folder_names[i], name1)\n",
    "                num_evac,avg_evac_time,avg_evac_time_all,run_time = primal_run_res(L,T,cases_num,N,N_s,A,car_num,road_ca,xi_s,Vi,Vo,B,G,Outputpath,name1,name2,Total_cars)\n",
    "                res_dic['B'].append(B)\n",
    "                res_dic['EvacTime'].append(T)\n",
    "                res_dic['NumEvac'].append(num_evac)\n",
    "                res_dic['Avg_evac_time'].append(avg_evac_time)\n",
    "                res_dic['Avg_evac_time_all'].append(avg_evac_time_all)\n",
    "                res_dic['RunTime'].append(run_time)\n",
    "        print(res_dic)\n",
    "\n",
    "        df_res = pd.DataFrame(res_dic)\n",
    "\n",
    "        out_folder_name = \"B\" + str(budget_low)+'_'+str(budget_high) + \"T\" + str(T_low) + \"_\" + str(T_high-1) + \"_\" + str(file_names[i]) + \"_L\"+str(L) + \"sensitivity_analysis\"\n",
    "        out_folder = os.path.join(Outputpath, folder_names[i], out_folder_name)\n",
    "        if not os.path.exists(out_folder):\n",
    "            os.mkdir(out_folder)\n",
    "\n",
    "        res_filename = \"num_evac\" + \"B\" + str(budget_low)+'_'+str(budget_high) + \"T\" + str(T_low) + \"_\" + str(T_high-1)+ \"L\" + str(L) + \"_sensitivity\" + \".csv\"\n",
    "        df_res.to_csv(os.path.join(out_folder,res_filename),index=False)"
   ],
   "metadata": {
    "collapsed": false
   }
  },
  {
   "cell_type": "code",
   "execution_count": null,
   "outputs": [],
   "source": [
    "main_sens_anal(27)"
   ],
   "metadata": {
    "collapsed": false
   }
  }
 ],
 "metadata": {
  "kernelspec": {
   "display_name": "Python 3 (ipykernel)",
   "language": "python",
   "name": "python3"
  },
  "language_info": {
   "codemirror_mode": {
    "name": "ipython",
    "version": 3
   },
   "file_extension": ".py",
   "mimetype": "text/x-python",
   "name": "python",
   "nbconvert_exporter": "python",
   "pygments_lexer": "ipython3",
   "version": "3.8.15"
  }
 },
 "nbformat": 4,
 "nbformat_minor": 1
}
